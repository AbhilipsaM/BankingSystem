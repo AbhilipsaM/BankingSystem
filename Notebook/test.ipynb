{
 "cells": [
  {
   "cell_type": "code",
   "execution_count": 2,
   "metadata": {},
   "outputs": [
    {
     "ename": "IndentationError",
     "evalue": "expected an indented block after function definition on line 17 (465988857.py, line 18)",
     "output_type": "error",
     "traceback": [
      "\u001b[1;36m  Cell \u001b[1;32mIn[2], line 18\u001b[1;36m\u001b[0m\n\u001b[1;33m    if amount > 0:\u001b[0m\n\u001b[1;37m    ^\u001b[0m\n\u001b[1;31mIndentationError\u001b[0m\u001b[1;31m:\u001b[0m expected an indented block after function definition on line 17\n"
     ]
    }
   ],
   "source": [
    "class Customer:\n",
    "    def __init__(self, customer_id, name,address,phone_number):\n",
    "        self.customer_id=customer_id\n",
    "        self.name=name\n",
    "        self.address=address\n",
    "        self.phone_number=phone_number\n",
    "    \n",
    "    def get_customer_info(self) -> str:\n",
    "        customer_info = f\"Customer ID: {self.customer_id}\\nName: {self.name}\\nAddress: {self.address}\\nPhone Number: {self.phone_number}\"\n",
    "        return customer_info\n",
    "    \n",
    "class Account:\n",
    "    def __init__(self, account_number, customer, initial_balance=0.0):\n",
    "        self.account_number = account_number\n",
    "        self.customer = customer\n",
    "        self.balance = initial_balance\n",
    "        def deposit(self, amount: float) -> None:\n",
    "        if amount > 0:\n",
    "            self.balance += amount\n",
    "\n",
    "    def withdraw(self, amount: float) -> bool:\n",
    "        if amount > 0 and amount <= self.balance:\n",
    "            self.balance -= amount\n",
    "            return True\n",
    "        else:\n",
    "            return False\n",
    "\n",
    "    def get_balance(self) -> float:\n",
    "        return self.balance\n",
    "    \n",
    "account_balance = account.get_balance(self)\n",
    "print(f\"Account Balance: ${account_balance}\")\n",
    "\n",
    "    "
   ]
  },
  {
   "cell_type": "code",
   "execution_count": null,
   "metadata": {},
   "outputs": [],
   "source": []
  }
 ],
 "metadata": {
  "kernelspec": {
   "display_name": "Python 3",
   "language": "python",
   "name": "python3"
  },
  "language_info": {
   "codemirror_mode": {
    "name": "ipython",
    "version": 3
   },
   "file_extension": ".py",
   "mimetype": "text/x-python",
   "name": "python",
   "nbconvert_exporter": "python",
   "pygments_lexer": "ipython3",
   "version": "3.11.5"
  },
  "orig_nbformat": 4
 },
 "nbformat": 4,
 "nbformat_minor": 2
}
